{
 "cells": [
  {
   "cell_type": "code",
   "execution_count": 4,
   "metadata": {},
   "outputs": [
    {
     "data": {
      "text/html": [
       "<div>\n",
       "<style>\n",
       "    .dataframe thead tr:only-child th {\n",
       "        text-align: right;\n",
       "    }\n",
       "\n",
       "    .dataframe thead th {\n",
       "        text-align: left;\n",
       "    }\n",
       "\n",
       "    .dataframe tbody tr th {\n",
       "        vertical-align: top;\n",
       "    }\n",
       "</style>\n",
       "<table border=\"1\" class=\"dataframe\">\n",
       "  <thead>\n",
       "    <tr style=\"text-align: right;\">\n",
       "      <th></th>\n",
       "      <th>city</th>\n",
       "      <th>date</th>\n",
       "      <th>fare</th>\n",
       "      <th>ride_id</th>\n",
       "    </tr>\n",
       "  </thead>\n",
       "  <tbody>\n",
       "    <tr>\n",
       "      <th>0</th>\n",
       "      <td>Sarabury</td>\n",
       "      <td>2016-01-16 13:49:27</td>\n",
       "      <td>38.35</td>\n",
       "      <td>5403689035038</td>\n",
       "    </tr>\n",
       "    <tr>\n",
       "      <th>1</th>\n",
       "      <td>South Roy</td>\n",
       "      <td>2016-01-02 18:42:34</td>\n",
       "      <td>17.49</td>\n",
       "      <td>4036272335942</td>\n",
       "    </tr>\n",
       "    <tr>\n",
       "      <th>2</th>\n",
       "      <td>Wiseborough</td>\n",
       "      <td>2016-01-21 17:35:29</td>\n",
       "      <td>44.18</td>\n",
       "      <td>3645042422587</td>\n",
       "    </tr>\n",
       "    <tr>\n",
       "      <th>3</th>\n",
       "      <td>Spencertown</td>\n",
       "      <td>2016-07-31 14:53:22</td>\n",
       "      <td>6.87</td>\n",
       "      <td>2242596575892</td>\n",
       "    </tr>\n",
       "    <tr>\n",
       "      <th>4</th>\n",
       "      <td>Nguyenbury</td>\n",
       "      <td>2016-07-09 04:42:44</td>\n",
       "      <td>6.28</td>\n",
       "      <td>1543057793673</td>\n",
       "    </tr>\n",
       "  </tbody>\n",
       "</table>\n",
       "</div>"
      ],
      "text/plain": [
       "          city                 date   fare        ride_id\n",
       "0     Sarabury  2016-01-16 13:49:27  38.35  5403689035038\n",
       "1    South Roy  2016-01-02 18:42:34  17.49  4036272335942\n",
       "2  Wiseborough  2016-01-21 17:35:29  44.18  3645042422587\n",
       "3  Spencertown  2016-07-31 14:53:22   6.87  2242596575892\n",
       "4   Nguyenbury  2016-07-09 04:42:44   6.28  1543057793673"
      ]
     },
     "execution_count": 4,
     "metadata": {},
     "output_type": "execute_result"
    }
   ],
   "source": [
    "import os\n",
    "import pandas as pd\n",
    "import numpy as np\n",
    "import matplotlib.pyplot as plt\n",
    "\n",
    "#Import json files\n",
    "city_data = os.path.join(\".\", \"city_data.csv\")\n",
    "ride_data = os.path.join(\".\", \"ride_data.csv\")\n",
    "\n",
    "#Read the imported csv\n",
    "city_pd = pd.read_csv(city_data)\n",
    "city_pd.head()\n",
    "\n",
    "#Read the imported csv file\n",
    "ride_pd = pd.read_csv(ride_data)\n",
    "ride_pd.head()\n"
   ]
  },
  {
   "cell_type": "code",
   "execution_count": 11,
   "metadata": {},
   "outputs": [
    {
     "data": {
      "text/plain": [
       "city\n",
       "Alvarezhaven            23.928710\n",
       "Alyssaberg              20.609615\n",
       "Anitamouth              37.315556\n",
       "Antoniomouth            23.625000\n",
       "Aprilchester            21.981579\n",
       "Arnoldview              25.106452\n",
       "Campbellport            33.711333\n",
       "Carrollbury             36.606000\n",
       "Carrollfort             25.395517\n",
       "Clarkstad               31.051667\n",
       "Conwaymouth             34.591818\n",
       "Davidtown               22.978095\n",
       "Davistown               21.497200\n",
       "East Cherylfurt         31.416154\n",
       "East Douglas            26.169091\n",
       "East Erin               24.478214\n",
       "East Jenniferchester    32.599474\n",
       "East Leslie             33.660909\n",
       "East Stephen            39.053000\n",
       "East Troybury           33.244286\n",
       "Edwardsbury             26.876667\n",
       "Erikport                30.043750\n",
       "Eriktown                25.478947\n",
       "Floresberg              32.310000\n",
       "Fosterside              23.034583\n",
       "Hernandezshire          32.002222\n",
       "Horneland               21.482500\n",
       "Jacksonfort             32.006667\n",
       "Jacobfort               24.779355\n",
       "Jasonfort               27.831667\n",
       "                          ...    \n",
       "South Roy               26.031364\n",
       "South Shannonborough    26.516667\n",
       "Spencertown             23.681154\n",
       "Stevensport             31.948000\n",
       "Stewartview             21.614000\n",
       "Swansonbury             27.464706\n",
       "Thomastown              30.308333\n",
       "Tiffanyton              28.510000\n",
       "Torresshire             24.207308\n",
       "Travisville             27.220870\n",
       "Vickimouth              21.474667\n",
       "Webstertown             29.721250\n",
       "West Alexis             19.523000\n",
       "West Brandy             24.157667\n",
       "West Brittanyton        25.436250\n",
       "West Dawnfurt           22.330345\n",
       "West Evan               27.013333\n",
       "West Jefferyfurt        21.072857\n",
       "West Kevintown          21.528571\n",
       "West Oscar              24.280000\n",
       "West Pamelaborough      33.799286\n",
       "West Paulport           33.278235\n",
       "West Peter              24.875484\n",
       "West Sydneyhaven        22.368333\n",
       "West Tony               29.609474\n",
       "Williamchester          34.278182\n",
       "Williamshire            26.990323\n",
       "Wiseborough             22.676842\n",
       "Yolandafurt             27.205500\n",
       "Zimmermanmouth          28.301667\n",
       "Name: fare, Length: 125, dtype: float64"
      ]
     },
     "execution_count": 11,
     "metadata": {},
     "output_type": "execute_result"
    }
   ],
   "source": [
    "#Average Fare Per City\n",
    "city_ride = ride_pd.groupby(\"city\")\n",
    "avg_fare = city_ride[\"fare\"].mean()\n",
    "avg_fare"
   ]
  },
  {
   "cell_type": "code",
   "execution_count": 12,
   "metadata": {},
   "outputs": [
    {
     "data": {
      "text/plain": [
       "city\n",
       "Alvarezhaven            31\n",
       "Alyssaberg              26\n",
       "Anitamouth               9\n",
       "Antoniomouth            22\n",
       "Aprilchester            19\n",
       "Arnoldview              31\n",
       "Campbellport            15\n",
       "Carrollbury             10\n",
       "Carrollfort             29\n",
       "Clarkstad               12\n",
       "Conwaymouth             11\n",
       "Davidtown               21\n",
       "Davistown               25\n",
       "East Cherylfurt         13\n",
       "East Douglas            22\n",
       "East Erin               28\n",
       "East Jenniferchester    19\n",
       "East Leslie             11\n",
       "East Stephen            10\n",
       "East Troybury            7\n",
       "Edwardsbury             27\n",
       "Erikport                 8\n",
       "Eriktown                19\n",
       "Floresberg              10\n",
       "Fosterside              24\n",
       "Hernandezshire           9\n",
       "Horneland                4\n",
       "Jacksonfort              6\n",
       "Jacobfort               31\n",
       "Jasonfort               12\n",
       "                        ..\n",
       "South Roy               22\n",
       "South Shannonborough    15\n",
       "Spencertown             26\n",
       "Stevensport              5\n",
       "Stewartview             30\n",
       "Swansonbury             34\n",
       "Thomastown              24\n",
       "Tiffanyton              13\n",
       "Torresshire             26\n",
       "Travisville             23\n",
       "Vickimouth              15\n",
       "Webstertown             16\n",
       "West Alexis             20\n",
       "West Brandy             30\n",
       "West Brittanyton        24\n",
       "West Dawnfurt           29\n",
       "West Evan               12\n",
       "West Jefferyfurt        21\n",
       "West Kevintown           7\n",
       "West Oscar              29\n",
       "West Pamelaborough      14\n",
       "West Paulport           17\n",
       "West Peter              31\n",
       "West Sydneyhaven        18\n",
       "West Tony               19\n",
       "Williamchester          11\n",
       "Williamshire            31\n",
       "Wiseborough             19\n",
       "Yolandafurt             20\n",
       "Zimmermanmouth          24\n",
       "Name: ride_id, Length: 125, dtype: int64"
      ]
     },
     "execution_count": 12,
     "metadata": {},
     "output_type": "execute_result"
    }
   ],
   "source": [
    "#Total Number of Rides Per City\n",
    "ride_count = city_ride[\"ride_id\"].count()\n",
    "ride_count"
   ]
  },
  {
   "cell_type": "code",
   "execution_count": 17,
   "metadata": {},
   "outputs": [
    {
     "data": {
      "text/plain": [
       "city\n",
       "Alvarezhaven            21\n",
       "Alyssaberg              67\n",
       "Anitamouth              16\n",
       "Antoniomouth            21\n",
       "Aprilchester            49\n",
       "Arnoldview              41\n",
       "Campbellport            26\n",
       "Carrollbury              4\n",
       "Carrollfort             55\n",
       "Clarkstad               21\n",
       "Conwaymouth             18\n",
       "Davidtown               73\n",
       "Davistown               25\n",
       "East Cherylfurt          9\n",
       "East Douglas            12\n",
       "East Erin               43\n",
       "East Jenniferchester    22\n",
       "East Leslie              9\n",
       "East Stephen             6\n",
       "East Troybury            3\n",
       "Edwardsbury             11\n",
       "Erikport                 3\n",
       "Eriktown                15\n",
       "Floresberg               7\n",
       "Fosterside              69\n",
       "Hernandezshire          10\n",
       "Horneland                8\n",
       "Jacksonfort              6\n",
       "Jacobfort               52\n",
       "Jasonfort               25\n",
       "                        ..\n",
       "South Roy               35\n",
       "South Shannonborough     9\n",
       "Spencertown             68\n",
       "Stevensport              6\n",
       "Stewartview             49\n",
       "Swansonbury             64\n",
       "Thomastown               1\n",
       "Tiffanyton              21\n",
       "Torresshire             70\n",
       "Travisville             37\n",
       "Vickimouth              13\n",
       "Webstertown             26\n",
       "West Alexis             47\n",
       "West Brandy             12\n",
       "West Brittanyton         9\n",
       "West Dawnfurt           34\n",
       "West Evan                4\n",
       "West Jefferyfurt        65\n",
       "West Kevintown           5\n",
       "West Oscar              11\n",
       "West Pamelaborough      27\n",
       "West Paulport            5\n",
       "West Peter              61\n",
       "West Sydneyhaven        70\n",
       "West Tony               17\n",
       "Williamchester          26\n",
       "Williamshire            70\n",
       "Wiseborough             55\n",
       "Yolandafurt              7\n",
       "Zimmermanmouth          45\n",
       "Name: driver_count, Length: 125, dtype: int64"
      ]
     },
     "execution_count": 17,
     "metadata": {},
     "output_type": "execute_result"
    }
   ],
   "source": [
    "# Total Number of Drivers per City\n",
    "city_driver = city_pd.groupby(\"city\")\n",
    "driver_count = city_driver['driver_count'].sum()"
   ]
  },
  {
   "cell_type": "code",
   "execution_count": 30,
   "metadata": {},
   "outputs": [
    {
     "data": {
      "text/plain": [
       "Urban       66\n",
       "Suburban    42\n",
       "Rural       18\n",
       "Name: type, dtype: int64"
      ]
     },
     "execution_count": 30,
     "metadata": {},
     "output_type": "execute_result"
    }
   ],
   "source": [
    "# City Type\n",
    "city_type = city_pd['type']\n",
    "city_type.value_counts()"
   ]
  },
  {
   "cell_type": "code",
   "execution_count": null,
   "metadata": {
    "collapsed": true
   },
   "outputs": [],
   "source": [
    "#Bubble Plot"
   ]
  },
  {
   "cell_type": "code",
   "execution_count": null,
   "metadata": {
    "collapsed": true
   },
   "outputs": [],
   "source": []
  },
  {
   "cell_type": "code",
   "execution_count": null,
   "metadata": {},
   "outputs": [],
   "source": []
  },
  {
   "cell_type": "code",
   "execution_count": 73,
   "metadata": {},
   "outputs": [
    {
     "data": {
      "text/plain": [
       "type\n",
       "Rural        6.579786\n",
       "Suburban    31.445750\n",
       "Urban       61.974463\n",
       "Name: fare, dtype: float64"
      ]
     },
     "execution_count": 73,
     "metadata": {},
     "output_type": "execute_result"
    }
   ],
   "source": [
    "#Data for Pie Charts\n",
    "#Percentage Total fares per City Type\n",
    "\n",
    "#Merge Files Based on City Column\n",
    "combined_df = pd.merge(city_pd, ride_pd,how='outer', right_on = 'city', left_on='city')\n",
    "combined_df.head()\n",
    "\n",
    "total_fares = combined_df['fare'].sum()\n",
    "total_fares\n",
    "\n",
    "\n",
    "city_type = combined_df.groupby(\"type\")\n",
    "total_city_fares = city_type['fare'].sum()\n",
    "total_city_fares\n",
    "\n",
    "#Percentages\n",
    "fares_city = (total_city_fares / total_fares) * 100\n",
    "fares_city\n",
    "\n"
   ]
  },
  {
   "cell_type": "code",
   "execution_count": null,
   "metadata": {
    "collapsed": true
   },
   "outputs": [],
   "source": [
    "#Pie Chart - Percentage of Total Fares by City Type"
   ]
  },
  {
   "cell_type": "code",
   "execution_count": 68,
   "metadata": {},
   "outputs": [
    {
     "data": {
      "text/html": [
       "<div>\n",
       "<style>\n",
       "    .dataframe thead tr:only-child th {\n",
       "        text-align: right;\n",
       "    }\n",
       "\n",
       "    .dataframe thead th {\n",
       "        text-align: left;\n",
       "    }\n",
       "\n",
       "    .dataframe tbody tr th {\n",
       "        vertical-align: top;\n",
       "    }\n",
       "</style>\n",
       "<table border=\"1\" class=\"dataframe\">\n",
       "  <thead>\n",
       "    <tr style=\"text-align: right;\">\n",
       "      <th></th>\n",
       "      <th>city</th>\n",
       "      <th>driver_count</th>\n",
       "      <th>type</th>\n",
       "      <th>date</th>\n",
       "      <th>fare</th>\n",
       "      <th>ride_id</th>\n",
       "    </tr>\n",
       "  </thead>\n",
       "  <tbody>\n",
       "    <tr>\n",
       "      <th>0</th>\n",
       "      <td>Kelseyland</td>\n",
       "      <td>63</td>\n",
       "      <td>Urban</td>\n",
       "      <td>2016-08-19 04:27:52</td>\n",
       "      <td>5.51</td>\n",
       "      <td>6246006544795</td>\n",
       "    </tr>\n",
       "    <tr>\n",
       "      <th>1</th>\n",
       "      <td>Kelseyland</td>\n",
       "      <td>63</td>\n",
       "      <td>Urban</td>\n",
       "      <td>2016-04-17 06:59:50</td>\n",
       "      <td>5.54</td>\n",
       "      <td>7466473222333</td>\n",
       "    </tr>\n",
       "    <tr>\n",
       "      <th>2</th>\n",
       "      <td>Kelseyland</td>\n",
       "      <td>63</td>\n",
       "      <td>Urban</td>\n",
       "      <td>2016-05-04 15:06:07</td>\n",
       "      <td>30.54</td>\n",
       "      <td>2140501382736</td>\n",
       "    </tr>\n",
       "    <tr>\n",
       "      <th>3</th>\n",
       "      <td>Kelseyland</td>\n",
       "      <td>63</td>\n",
       "      <td>Urban</td>\n",
       "      <td>2016-01-25 20:44:56</td>\n",
       "      <td>12.08</td>\n",
       "      <td>1896987891309</td>\n",
       "    </tr>\n",
       "    <tr>\n",
       "      <th>4</th>\n",
       "      <td>Kelseyland</td>\n",
       "      <td>63</td>\n",
       "      <td>Urban</td>\n",
       "      <td>2016-08-09 18:19:47</td>\n",
       "      <td>17.91</td>\n",
       "      <td>8784212854829</td>\n",
       "    </tr>\n",
       "  </tbody>\n",
       "</table>\n",
       "</div>"
      ],
      "text/plain": [
       "         city  driver_count   type                 date   fare        ride_id\n",
       "0  Kelseyland            63  Urban  2016-08-19 04:27:52   5.51  6246006544795\n",
       "1  Kelseyland            63  Urban  2016-04-17 06:59:50   5.54  7466473222333\n",
       "2  Kelseyland            63  Urban  2016-05-04 15:06:07  30.54  2140501382736\n",
       "3  Kelseyland            63  Urban  2016-01-25 20:44:56  12.08  1896987891309\n",
       "4  Kelseyland            63  Urban  2016-08-09 18:19:47  17.91  8784212854829"
      ]
     },
     "execution_count": 68,
     "metadata": {},
     "output_type": "execute_result"
    }
   ],
   "source": [
    "combined_df.head()"
   ]
  },
  {
   "cell_type": "code",
   "execution_count": null,
   "metadata": {
    "collapsed": true
   },
   "outputs": [],
   "source": []
  },
  {
   "cell_type": "code",
   "execution_count": 79,
   "metadata": {},
   "outputs": [
    {
     "data": {
      "text/plain": [
       "type\n",
       "Rural        5.193187\n",
       "Suburban    27.295388\n",
       "Urban       67.511425\n",
       "Name: city, dtype: float64"
      ]
     },
     "execution_count": 79,
     "metadata": {},
     "output_type": "execute_result"
    }
   ],
   "source": [
    "#Data for Pie Charts\n",
    "#Percentage Total Riders per City Type\n",
    "\n",
    "total_trips = combined_df['ride_id'].count()\n",
    "total_trips\n",
    "\n",
    "\n",
    "riders = city_type['city'].count()\n",
    "riders\n",
    "\n",
    "riders_city = (riders / total_trips) * 100\n",
    "riders_city"
   ]
  },
  {
   "cell_type": "code",
   "execution_count": null,
   "metadata": {
    "collapsed": true
   },
   "outputs": [],
   "source": [
    "#Pie Chart - Perentage Total Riders per City Type"
   ]
  },
  {
   "cell_type": "code",
   "execution_count": null,
   "metadata": {
    "collapsed": true
   },
   "outputs": [],
   "source": []
  },
  {
   "cell_type": "code",
   "execution_count": null,
   "metadata": {
    "collapsed": true
   },
   "outputs": [],
   "source": []
  },
  {
   "cell_type": "code",
   "execution_count": 86,
   "metadata": {},
   "outputs": [
    {
     "data": {
      "text/plain": [
       "type\n",
       "Rural        0.969876\n",
       "Suburban    12.980602\n",
       "Urban       86.049521\n",
       "Name: driver_count, dtype: float64"
      ]
     },
     "execution_count": 86,
     "metadata": {},
     "output_type": "execute_result"
    }
   ],
   "source": [
    "#Data for Pie Charts\n",
    "#Percentage Total drivers per City Type\n",
    "\n",
    "total_drivers = combined_df['driver_count'].sum()\n",
    "total_drivers\n",
    "\n",
    "\n",
    "drivers = city_type['driver_count'].sum()\n",
    "drivers\n",
    "\n",
    "drivers_city = (drivers / total_drivers) * 100\n",
    "drivers_city"
   ]
  },
  {
   "cell_type": "code",
   "execution_count": null,
   "metadata": {
    "collapsed": true
   },
   "outputs": [],
   "source": [
    "#Pie Chart - Total Drivers By City Type"
   ]
  }
 ],
 "metadata": {
  "kernelspec": {
   "display_name": "Python 3",
   "language": "python",
   "name": "python3"
  },
  "language_info": {
   "codemirror_mode": {
    "name": "ipython",
    "version": 3
   },
   "file_extension": ".py",
   "mimetype": "text/x-python",
   "name": "python",
   "nbconvert_exporter": "python",
   "pygments_lexer": "ipython3",
   "version": "3.6.3"
  }
 },
 "nbformat": 4,
 "nbformat_minor": 2
}
